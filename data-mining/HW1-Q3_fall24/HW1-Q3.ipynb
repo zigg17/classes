{
 "cells": [
  {
   "cell_type": "markdown",
   "metadata": {},
   "source": [
    "# Homework 1\n",
    "***\n",
    "**Name**: $<$insert name here$>$ \n",
    "***\n",
    "\n",
    "This assignment is due on Canvas by **12:30pm on Thursday September 12th**. Submit only this Jupyter notebook to Canvas.  Do not compress it using tar, rar, zip, etc. Your solutions to analysis questions should be done in Markdown directly below the associated question.  Remember that you are encouraged to discuss the problems with your instructors and classmates, but **you must write all code and solutions on your own**."
   ]
  },
  {
   "cell_type": "markdown",
   "metadata": {},
   "source": [
    "The rules to be followed for the assignment are:\n",
    "\n",
    "- Do **NOT** load or use any Python packages that are not available in Anaconda for Python 3.9. \n",
    "- Some problems with code may be autograded.  If we provide a function or class API **do not** change it.\n",
    "- Do not change the location of the data or data directory.  Use only relative paths to access the data. "
   ]
  },
  {
   "cell_type": "code",
   "execution_count": 1,
   "metadata": {
    "ExecuteTime": {
     "end_time": "2021-09-01T04:27:56.463072Z",
     "start_time": "2021-09-01T04:27:55.676368Z"
    }
   },
   "outputs": [],
   "source": [
    "import argparse\n",
    "import pandas as pd\n",
    "import numpy as np\n",
    "import pickle\n",
    "from pathlib import Path"
   ]
  },
  {
   "cell_type": "markdown",
   "metadata": {},
   "source": [
    "### Problem 1\n",
    "***\n",
    "\n",
    "The Function below should return the following attributes for the values within range [range_min, range_max] (both sides inclusive) in the ith column which are: \n",
    "- Number of objects\n",
    "- The minimum value\n",
    "- The maximum value\n",
    "- The mean value\n",
    "- The standard deviation value\n",
    "- The Q1 value\n",
    "- The median value\n",
    "- The Q3 value\n",
    "- The IQR value\n",
    "\n",
    "Note:\n",
    "- The data file is already at \"data/energy_dataset.csv\". Please maintain this as it would be necessary while grading. You don't need to download it yourself\n",
    "- Do not change the variable names of the returned values.\n",
    "- After calculating each of those values, assign them to the corresponding value that is being returned.\n",
    "- The col_ind can range from 0 - 8\n",
    "- ONLY consider the values within [range_min, range_max] (both sides are INCLUSIVE) \n",
    "\n",
    "For example, if a column has value 1,2,3,4,5,6 and [range_min, range_max] = [2,4], only the values 2,3,4 will be used to calculate the attributes."
   ]
  },
  {
   "cell_type": "code",
   "execution_count": 2,
   "metadata": {
    "ExecuteTime": {
     "end_time": "2021-09-01T04:47:25.226698Z",
     "start_time": "2021-09-01T04:47:25.222776Z"
    }
   },
   "outputs": [],
   "source": [
    "def calculate(dataFile, col_num, range_min, range_max):\n",
    "    \"\"\"\n",
    "    Input Parameters:\n",
    "        dataFile: The dataset file (in csv).\n",
    "        col_num: The index of the column for which the various properties will be calculated.\n",
    "        [range_min, range_max]: the range of the values to be considered for calculation\n",
    "    Default value of 0,infinity,-infinity are assigned to all the variables as required. \n",
    "    \"\"\"\n",
    "    numObj, minValue, maxValue, mean, stdev, Q1, median, Q3, IQR = [0,\"inf\",\"-inf\",0,0,0,0,0,0]\n",
    "\n",
    "    #YOUR TASK: Write code to assign the values to the respective variables.\n",
    "    return numObj, minValue, maxValue, mean, stdev, Q1, median, Q3, IQR"
   ]
  },
  {
   "cell_type": "markdown",
   "metadata": {},
   "source": [
    "### Here are the unit tests. You don't need to modify them. Simply execute the cell and observe the output."
   ]
  },
  {
   "cell_type": "code",
   "execution_count": 3,
   "metadata": {
    "ExecuteTime": {
     "end_time": "2021-09-01T04:47:25.775804Z",
     "start_time": "2021-09-01T04:47:25.757828Z"
    }
   },
   "outputs": [
    {
     "name": "stderr",
     "output_type": "stream",
     "text": [
      "F\n",
      "======================================================================\n",
      "FAIL: test0 (__main__.TestAttr)\n",
      "Test calculation result\n",
      "----------------------------------------------------------------------\n",
      "Traceback (most recent call last):\n",
      "  File \"/tmp/ipykernel_129/1436640585.py\", line 16, in test0\n",
      "    self.assertEqual(result[0],self.data[1][0])\n",
      "AssertionError: 0 != 4483\n",
      "\n",
      "----------------------------------------------------------------------\n",
      "Ran 1 test in 0.005s\n",
      "\n",
      "FAILED (failures=1)\n"
     ]
    },
    {
     "data": {
      "text/plain": [
       "<unittest.runner.TextTestResult run=1 errors=0 failures=1>"
      ]
     },
     "execution_count": 3,
     "metadata": {},
     "output_type": "execute_result"
    }
   ],
   "source": [
    "import unittest\n",
    "\n",
    "class TestAttr(unittest.TestCase):\n",
    "    def setUp(self):\n",
    "        self.loc = \"data/energy_dataset.csv\"\n",
    "        file = open('data/testing', 'rb')\n",
    "        self.data = pickle.load(file)\n",
    "        file.close()\n",
    "    \n",
    "    def test0(self):\n",
    "        \"\"\"\n",
    "        Test calculation result\n",
    "        \"\"\"\n",
    "        column, range_min, range_max = self.data[0]\n",
    "        result = calculate(self.loc, column, range_min, range_max)\n",
    "        self.assertEqual(result[0],self.data[1][0])\n",
    "        self.assertAlmostEqual(result[1],self.data[1][1], places = 1)\n",
    "        self.assertAlmostEqual(result[2],self.data[1][2], places = 1)\n",
    "        self.assertAlmostEqual(result[3],self.data[1][3], places = 1)\n",
    "        self.assertAlmostEqual(result[4],self.data[1][4], places = 1)\n",
    "        self.assertAlmostEqual(result[5],self.data[1][5], places = 1)\n",
    "        self.assertAlmostEqual(result[6],self.data[1][6], places = 1)\n",
    "        self.assertAlmostEqual(result[7],self.data[1][7], places = 1)\n",
    "        self.assertAlmostEqual(result[8],self.data[1][8], places = 1)\n",
    "\n",
    "tests = TestAttr()\n",
    "tests_to_run = unittest.TestLoader().loadTestsFromModule(tests)\n",
    "unittest.TextTestRunner().run(tests_to_run)"
   ]
  },
  {
   "cell_type": "markdown",
   "metadata": {},
   "source": [
    "### [Part B] Scatter Plot. Use the cell below to add your code"
   ]
  },
  {
   "cell_type": "code",
   "execution_count": 4,
   "metadata": {
    "ExecuteTime": {
     "end_time": "2021-09-01T02:42:32.826179Z",
     "start_time": "2021-09-01T02:42:32.287848Z"
    }
   },
   "outputs": [
    {
     "data": {
      "text/plain": [
       "Text(0.5, 1.0, 'scatter plot')"
      ]
     },
     "execution_count": 4,
     "metadata": {},
     "output_type": "execute_result"
    },
    {
     "data": {
      "image/png": "[encoded data removed]",
      "text/plain": [
       "<Figure size 640x480 with 1 Axes>"
      ]
     },
     "metadata": {},
     "output_type": "display_data"
    }
   ],
   "source": [
    "import matplotlib.pyplot as plt\n",
    "\n",
    "plt.title('scatter plot')"
   ]
  },
  {
   "cell_type": "code",
   "execution_count": null,
   "metadata": {},
   "outputs": [],
   "source": []
  }
 ],
 "metadata": {
  "hide_input": false,
  "kernelspec": {
   "display_name": "Python 3 (ipykernel)",
   "language": "python",
   "name": "python3"
  },
  "language_info": {
   "codemirror_mode": {
    "name": "ipython",
    "version": 3
   },
   "file_extension": ".py",
   "mimetype": "text/x-python",
   "name": "python",
   "nbconvert_exporter": "python",
   "pygments_lexer": "ipython3",
   "version": "3.10.8"
  },
  "latex_envs": {
   "LaTeX_envs_menu_present": true,
   "autoclose": false,
   "autocomplete": true,
   "bibliofile": "biblio.bib",
   "cite_by": "apalike",
   "current_citInitial": 1,
   "eqLabelWithNumbers": true,
   "eqNumInitial": 1,
   "hotkeys": {
    "equation": "Ctrl-E",
    "itemize": "Ctrl-I"
   },
   "labels_anchors": false,
   "latex_user_defs": false,
   "report_style_numbering": false,
   "user_envs_cfg": false
  },
  "nbTranslate": {
   "displayLangs": [
    "*"
   ],
   "hotkey": "alt-t",
   "langInMainMenu": true,
   "sourceLang": "en",
   "targetLang": "fr",
   "useGoogleTranslate": true
  },
  "toc": {
   "base_numbering": 1,
   "nav_menu": {},
   "number_sections": true,
   "sideBar": true,
   "skip_h1_title": false,
   "title_cell": "Table of Contents",
   "title_sidebar": "Contents",
   "toc_cell": false,
   "toc_position": {},
   "toc_section_display": true,
   "toc_window_display": false
  },
  "varInspector": {
   "cols": {
    "lenName": 16,
    "lenType": 16,
    "lenVar": 40
   },
   "kernels_config": {
    "python": {
     "delete_cmd_postfix": "",
     "delete_cmd_prefix": "del ",
     "library": "var_list.py",
     "varRefreshCmd": "print(var_dic_list())"
    },
    "r": {
     "delete_cmd_postfix": ") ",
     "delete_cmd_prefix": "rm(",
     "library": "var_list.r",
     "varRefreshCmd": "cat(var_dic_list()) "
    }
   },
   "types_to_exclude": [
    "module",
    "function",
    "builtin_function_or_method",
    "instance",
    "_Feature"
   ],
   "window_display": false
  }
 },
 "nbformat": 4,
 "nbformat_minor": 4
}
